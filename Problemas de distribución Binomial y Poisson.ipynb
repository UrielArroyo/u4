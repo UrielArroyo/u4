{
  "cells": [
    {
      "cell_type": "markdown",
      "metadata": {
        "id": "view-in-github",
        "colab_type": "text"
      },
      "source": [
        "<a href=\"https://colab.research.google.com/github/UrielArroyo/u4/blob/main/Problemas%20de%20distribuci%C3%B3n%20Binomial%20y%20Poisson.ipynb\" target=\"_parent\"><img src=\"https://colab.research.google.com/assets/colab-badge.svg\" alt=\"Open In Colab\"/></a>"
      ]
    },
    {
      "cell_type": "code",
      "source": [],
      "metadata": {
        "id": "J_AYFaf5rUjf"
      },
      "execution_count": null,
      "outputs": []
    },
    {
      "cell_type": "code",
      "source": [
        "from scipy.stats import poisson\n",
        "\n",
        "# parametros de la distribucion de poisson\n",
        "media_accidentes = 2\n",
        "\n",
        "# parte 1: probabilidad de que no haya accidentes en una semana\n",
        "probabilidad_0_accidentes = poisson.pmf(0, media_accidentes)\n",
        "\n",
        "print(\"1, probabilidad de que no haya accidentes en una semna:\", probabilidad_0_accidentes)\n",
        "\n",
        "# parte 2: probabilida de que a la suma haya 3 accidentes en 2 semanas\n",
        "# convertimos la media a una media para dos semanas\n",
        "media_2_semanas = media_accidentes * 2\n",
        "\n",
        "probabilidad_3_o_menos_accidentes = poisson.cdf(3, media_2_semanas)\n",
        "print(\"2. probabilidad de a lo que lo sumo haya 3 accidentes en 2 semanas:\", probabilidad_3_o_menos_accidentes)\n"
      ],
      "metadata": {
        "colab": {
          "base_uri": "https://localhost:8080/"
        },
        "id": "1H9hWToSmDfj",
        "outputId": "c75b3303-f751-4ba9-98c9-fc00c0639e5f"
      },
      "execution_count": 13,
      "outputs": [
        {
          "output_type": "stream",
          "name": "stdout",
          "text": [
            "1, probabilidad de que no haya accidentes en una semna: 0.1353352832366127\n",
            "2. probabilidad de a lo que lo sumo haya 3 accidentes en 2 semanas: 0.43347012036670896\n"
          ]
        }
      ]
    },
    {
      "cell_type": "code",
      "source": [
        "from scipy.stats import poisson\n",
        "# parametros de la distribuccion de poisson\n",
        "media_muertes = 5000 * 0.001 #5000 son los hombres con una probabilidad de muerte de 0.001\n",
        "\n",
        "# numero de reclamaciones\n",
        "x = 4\n",
        "\n",
        "# calcula la probabilidad de que la compañia tenga que pagar 4 reclamaciones en un año determinado\n",
        "probabilidad_4_reclamaciones = poisson.pmf(x, media_muertes)\n",
        "\n",
        "print(\"la probabilidad de que la compañia tenga que pagar 4 reclamaciones es DE:\", probabilidad_4_reclamaciones)\n"
      ],
      "metadata": {
        "colab": {
          "base_uri": "https://localhost:8080/"
        },
        "id": "jDeCtjIdpKbn",
        "outputId": "71d88189-44ba-41ba-a127-a4df8605d8d2"
      },
      "execution_count": 12,
      "outputs": [
        {
          "output_type": "stream",
          "name": "stdout",
          "text": [
            "la probabilidad de que la compañia tenga que pagar 4 reclamaciones es DE: 0.17546736976785063\n"
          ]
        }
      ]
    }
  ],
  "metadata": {
    "colab": {
      "name": "Te damos la bienvenida a Colaboratory",
      "provenance": [],
      "include_colab_link": true
    },
    "kernelspec": {
      "display_name": "Python 3",
      "name": "python3"
    }
  },
  "nbformat": 4,
  "nbformat_minor": 0
}